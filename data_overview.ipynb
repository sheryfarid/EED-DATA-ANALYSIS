{
 "cells": [
  {
   "cell_type": "code",
   "execution_count": 1,
   "id": "e8a3bac1",
   "metadata": {},
   "outputs": [
    {
     "name": "stdout",
     "output_type": "stream",
     "text": [
      "Extracting EDF parameters from D:\\ai\\eeg_data\\stroke\\edffile\\sub-01\\eeg\\sub-01_task-motor-imagery_eeg.edf...\n",
      "EDF file detected\n",
      "Setting channel info structure...\n",
      "Creating raw.info structure...\n"
     ]
    },
    {
     "name": "stderr",
     "output_type": "stream",
     "text": [
      "C:\\Users\\Selltricks\\AppData\\Local\\Temp\\ipykernel_10072\\88446038.py:8: RuntimeWarning: Physical range is not defined in following channels:\n",
      "CPz\n",
      "  raw = mne.io.read_raw_edf(edf_path, preload=True)\n"
     ]
    },
    {
     "name": "stdout",
     "output_type": "stream",
     "text": [
      "Reading 0 ... 159999  =      0.000 ...   319.998 secs...\n",
      "        FP1       FP2        Fz        F3        F4        F7        F8   \n",
      "0  0.000110  0.000033  0.000026  0.000026  0.000034  0.000053  0.000044  \\\n",
      "1  0.000108  0.000032  0.000025  0.000025  0.000032  0.000052  0.000043   \n",
      "2  0.000107  0.000032  0.000024  0.000025  0.000031  0.000051  0.000043   \n",
      "3  0.000106  0.000031  0.000024  0.000025  0.000029  0.000050  0.000043   \n",
      "4  0.000106  0.000031  0.000023  0.000025  0.000028  0.000049  0.000043   \n",
      "5  0.000107  0.000030  0.000023  0.000025  0.000028  0.000048  0.000043   \n",
      "6  0.000109  0.000030  0.000023  0.000025  0.000028  0.000048  0.000043   \n",
      "7  0.000111  0.000030  0.000024  0.000026  0.000028  0.000049  0.000044   \n",
      "8  0.000113  0.000031  0.000024  0.000027  0.000029  0.000049  0.000044   \n",
      "9  0.000115  0.000031  0.000025  0.000028  0.000030  0.000051  0.000044   \n",
      "\n",
      "        FCz       FC3       FC4  ...        P3        P4        T5        T6   \n",
      "0  0.000029  0.000057  0.000037  ...  0.000032  0.000016  0.000055  0.000014  \\\n",
      "1  0.000028  0.000057  0.000036  ...  0.000032  0.000018  0.000055  0.000016   \n",
      "2  0.000028  0.000056  0.000035  ...  0.000032  0.000020  0.000054  0.000019   \n",
      "3  0.000028  0.000056  0.000034  ...  0.000032  0.000021  0.000053  0.000022   \n",
      "4  0.000027  0.000055  0.000034  ...  0.000031  0.000023  0.000052  0.000024   \n",
      "5  0.000027  0.000055  0.000034  ...  0.000031  0.000023  0.000051  0.000026   \n",
      "6  0.000027  0.000055  0.000034  ...  0.000030  0.000024  0.000049  0.000026   \n",
      "7  0.000028  0.000056  0.000034  ...  0.000029  0.000023  0.000049  0.000025   \n",
      "8  0.000028  0.000057  0.000034  ...  0.000029  0.000022  0.000048  0.000023   \n",
      "9  0.000029  0.000058  0.000035  ...  0.000028  0.000020  0.000048  0.000021   \n",
      "\n",
      "         Oz        O1        O2      HEOL      HEOR            \n",
      "0  0.000077  0.000062  0.000050  0.000041  0.000051  0.000001  \n",
      "1  0.000081  0.000064  0.000055  0.000042  0.000050  0.000000  \n",
      "2  0.000084  0.000065  0.000061  0.000043  0.000049  0.000000  \n",
      "3  0.000087  0.000066  0.000066  0.000044  0.000048  0.000000  \n",
      "4  0.000089  0.000066  0.000070  0.000044  0.000046  0.000000  \n",
      "5  0.000090  0.000066  0.000073  0.000045  0.000045  0.000000  \n",
      "6  0.000090  0.000064  0.000073  0.000045  0.000044  0.000000  \n",
      "7  0.000088  0.000063  0.000072  0.000045  0.000043  0.000000  \n",
      "8  0.000086  0.000061  0.000070  0.000044  0.000043  0.000000  \n",
      "9  0.000084  0.000060  0.000066  0.000044  0.000043  0.000000  \n",
      "\n",
      "[10 rows x 33 columns]\n"
     ]
    }
   ],
   "source": [
    "# Convert EDF to CSV-like Table Before Preprocessing\n",
    "import mne\n",
    "import pandas as pd\n",
    "\n",
    "edf_path = r\"D:\\ai\\eeg_data\\stroke\\edffile\\sub-01\\eeg\\sub-01_task-motor-imagery_eeg.edf\"\n",
    "\n",
    "# Load EDF\n",
    "raw = mne.io.read_raw_edf(edf_path, preload=True)\n",
    "\n",
    "# Get first 5 seconds of data\n",
    "sfreq = int(raw.info['sfreq'])\n",
    "data, times = raw[:, :sfreq*5]   # (channels, samples)\n",
    "\n",
    "# Convert to DataFrame (transpose: samples x channels)\n",
    "df_edf = pd.DataFrame(data.T, columns=raw.ch_names)\n",
    "\n",
    "# Show first 10 rows (like CSV)\n",
    "print(df_edf.head(10))\n"
   ]
  },
  {
   "cell_type": "code",
   "execution_count": 2,
   "id": "cf81c481",
   "metadata": {},
   "outputs": [
    {
     "name": "stdout",
     "output_type": "stream",
     "text": [
      "Extracting EDF parameters from D:\\ai\\eeg_data\\stroke\\edffile\\sub-01\\eeg\\sub-01_task-motor-imagery_eeg.edf...\n",
      "EDF file detected\n",
      "Setting channel info structure...\n",
      "Creating raw.info structure...\n",
      "Reading 0 ... 159999  =      0.000 ...   319.998 secs...\n"
     ]
    },
    {
     "name": "stderr",
     "output_type": "stream",
     "text": [
      "C:\\Users\\Selltricks\\AppData\\Local\\Temp\\ipykernel_10072\\1452155005.py:4: RuntimeWarning: Physical range is not defined in following channels:\n",
      "CPz\n",
      "  raw = mne.io.read_raw_edf(edf_path, preload=True)\n"
     ]
    },
    {
     "name": "stdout",
     "output_type": "stream",
     "text": [
      "Fp1 values from EDF: [0.00010965 0.00010823 0.00010701 0.00010629 0.00010625 0.00010701\n",
      " 0.00010852 0.00011062 0.00011303 0.00011547]\n"
     ]
    }
   ],
   "source": [
    "edf_path = r\"D:\\ai\\eeg_data\\stroke\\edffile\\sub-01\\eeg\\sub-01_task-motor-imagery_eeg.edf\"\n",
    "\n",
    "# Load EDF\n",
    "raw = mne.io.read_raw_edf(edf_path, preload=True)\n",
    "ch_idx = raw.ch_names.index(\"FP1\")  # channel index\n",
    "data, times = raw[ch_idx, :10]      # first 10 samples\n",
    "print(\"Fp1 values from EDF:\", data.flatten())\n"
   ]
  },
  {
   "cell_type": "code",
   "execution_count": null,
   "id": "716877ec",
   "metadata": {},
   "outputs": [],
   "source": []
  },
  {
   "cell_type": "code",
   "execution_count": null,
   "id": "58b3267b",
   "metadata": {},
   "outputs": [],
   "source": []
  },
  {
   "cell_type": "code",
   "execution_count": null,
   "id": "988d7d3f",
   "metadata": {},
   "outputs": [],
   "source": []
  }
 ],
 "metadata": {
  "kernelspec": {
   "display_name": "Python 3",
   "language": "python",
   "name": "python3"
  },
  "language_info": {
   "codemirror_mode": {
    "name": "ipython",
    "version": 3
   },
   "file_extension": ".py",
   "mimetype": "text/x-python",
   "name": "python",
   "nbconvert_exporter": "python",
   "pygments_lexer": "ipython3",
   "version": "3.11.1"
  }
 },
 "nbformat": 4,
 "nbformat_minor": 5
}
